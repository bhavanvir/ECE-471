{
  "cells": [
    {
      "cell_type": "markdown",
      "metadata": {
        "id": "U0nrIg51CXFF"
      },
      "source": [
        "![UVic logo](https://res-2.cloudinary.com/crunchbase-production/image/upload/c_lpad,h_256,w_256,f_auto,q_auto:eco/v1406151713/wptak6xuezyh36b1hbty.png)\n",
        "\n",
        "# **ECE 471/536 Spring 2023: Computer Vision**\n",
        "## Assignment 4: Convolutional Neural Networks and Logistic Regression\n",
        "### Due date: TBD\n",
        "\n",
        "\n",
        "> Student: Bhavanvir Rai, V00938954\n",
        "---"
      ]
    },
    {
      "cell_type": "markdown",
      "metadata": {
        "id": "srHd9KhbFHcU"
      },
      "source": [
        "## **1. Instructions:** follow the intructions provided on a sequential manner. \n",
        "### 1.0 **Identification** \n",
        "Please enter your name and V number on the text code above.\n",
        "\n",
        "### 1.1 **Submission package**\n",
        "Your final submission package must be submitted using the [BrightSpace](https://https://bright.uvic.ca/d2l/home)  platform. You will find this assignment's specific page under **Course Tools > Assignments**. Your submission package consists of a *.zip* file containing:\n",
        "\n",
        "1.   *.ipynb* file: your modified version of this Google Colab template. Place your complete assignment solution/information in this version.  \n",
        "2.   *.pdf* file: a document containing a writeup with the answers to mathematical questions. \n",
        "\n",
        "### 1.2 **Coding considerations**\n",
        "* In previous years we asked students to complete assignments offline by installing either MATLAB or a Python environment in their computers. In order to standardize the submissions and guarantee that everyone has access to the same Python environment, all assignments are going to be described (by us) and completed (by you) using the same Google Colab reference template script.\n",
        "* Google Colab offers a Python environment that can be accessed in your browser and executed using Google Cloud, so no local installation is necessary. It makes the setting-up process significantly easier! Please read [this quick tutorial](https://colab.research.google.com/github/tensorflow/examples/blob/master/courses/udacity_intro_to_tensorflow_for_deep_learning/l01c01_introduction_to_colab_and_python.ipynb) notebook on Google Colab/Python.\n",
        "\n",
        "### 1.3 **Creating your Google Colab submission file**\n",
        "\n",
        "* Modify this template with your solutions to the assignment. You will find \"**TO-DO**\" indicators throughout the assingment highlighting portions of the code you are asked to complete. \n",
        "* Only edit the provided templates in the bounds of the START TODO and END TODO flags.\n",
        "* Colab notebooks are divided into individual cells. You can execute the code inside of a given cell by pressing **CTRL+ENTER**, or that of all cells by pressing **CTRL+F9**. Variables must be \"executed\" in a cell before being used by subsequent ones (the same goes for libraries imported). Note that some cells of this assignment contain flags that must by changed (and executed) before you move forward.\n",
        "* If you completed the whole assignment, make sure that simply pressing \"**CTRL+F9**\" executes all cells correctly. **This is going to be the first marking step we will execute when evaluating your submission**.  \n",
        "\n",
        "### 1.4 **Use of open source code**\n",
        "\n",
        "* The use of small segments of freely-available code is permitted. However, it is **extremely important** that you indicate in your in-code comments where these are used, as well as their sources. Failure to do so can be considered plagiarism, which is a serious offence. Learn more about detection mechanisms and consequences of plagiarism at UVic [here](https://www.uvic.ca/library/research/citation/plagiarism/). Note that the programming assignments are designed so that most of their content should be created by you.     \n",
        "* You can never include too many of these only too few. \n",
        "* A number of functions/algorithms are already implemented by libraries we will use (e.g., [OpenCV](https://opencv.org/), [scikit-learn](https://scikit-learn.org/stable/)), however you should not use them unless otherwise instructed to do so. Mannualy coding some of these function is an important part of the learning process.  \n"
      ]
    },
    {
      "cell_type": "code",
      "execution_count": 1,
      "metadata": {
        "id": "YQS1k9BUa_8Z"
      },
      "outputs": [],
      "source": [
        "# ~~~~~~~START TODO~~~~~~~~~\n",
        "READ_THE_INSTRUCTIONS_FLAG = True\n",
        "# ~~~~~~~~END TODO~~~~~~~~~~"
      ]
    },
    {
      "cell_type": "markdown",
      "metadata": {
        "id": "ab-6ULjWQ4o1"
      },
      "source": [
        "# **2. Theoretical**\n",
        "\n",
        "## 2.1 Backpropogation (35 marks)\n",
        "\n",
        "Backpropogation is the method in which we update the learnable parameters in a network.  We do this by applying the \"chain rule\" to the *local gradient* with the *upstream gradient* to get a new *downstream gradient*.  These gradients are defined using a *computational graph*, which converts a formula to a directed graph.  Unlike when doing the analytic gradient we do not need to know the final \"form\" of the network/loss function, we just need to know how to find the gradient of the local computational node. \n",
        "\n",
        "\n",
        "---\n",
        "\n",
        "\n",
        "Below is a simple graph that consists of 2 learnable paramters, $W,x$ and is equivalent to the formula:\n",
        "\n",
        "\\begin{equation}\n",
        "L = \\sum \\sigma(xW) \n",
        "\\end{equation}\n",
        "where L is a scalar output.\n",
        "\n",
        "\n",
        "\n",
        "![](https://raw.githubusercontent.com/dash-uvic/ece471_536-S2022/main/images/A4/q1.png)\n",
        "\n",
        "**HINT:**  When calculating the gradients of the $\\sum(X)$ function, recall when we discussed the Jaccobian matrix for the matrix multiplication function.  If we breakout the summation into it's parts it will look like: \n",
        "\\begin{equation}\n",
        "L = x_1 + x_2 + x_3 ... + x_n\n",
        "\\end{equation}\n",
        "If we take the gradient $\\frac{\\partial{L}}{\\partial{x_1}}$, what commonents in the equation above are affected by $x_1$?\n",
        "\n",
        "\n",
        "---\n",
        "\n",
        "\n",
        "**For full marks, show all your work.  Make sure you round all values to 4 decimal places**\n",
        "\n",
        "1. How many classes does this network have (Hint think about the shape after the matrix multiplication)? (2 marks)\n",
        "\n",
        "\n",
        "2.  Compute the forward pass for this network. (10 marks)\n",
        "\n",
        "\n",
        "3.  Calculate local gradients for each node in the graph: (10 marks) \n",
        "$\\frac{\\partial{L}}{\\partial{q}},\\frac{\\partial{q}}{\\partial{p}},\\frac{\\partial{p}}{\\partial{W}},\\frac{\\partial{p}}{\\partial{x}}$\n",
        "\n",
        "\n",
        "4.  Use the chain rule to compute the gradients of the inputs: $\\frac{\\partial{L}}{\\partial{W}},\\frac{\\partial{L}}{\\partial{x}}$ (13 marks)\n",
        "\n",
        "\n",
        "## 2.2 Datasets (20 marks)\n",
        "\n",
        "Deep neural networks and machine learning are *data-driven* approaches.  We must carefully consider our dataset, it's underline properties and distributions, and how it will affect the performance of our algorithms.\n",
        "\n",
        "\n",
        "---\n",
        "\n",
        "\n",
        "1.  You have selected a dataset and split it randomly into a test set and train set (20/80\\% split with 10 classes).  My classifier performs 90\\%+ on the training set, but only 10\\% on test set.  What might be the problem? What is a possible solution? (10 marks)\n",
        "\n",
        "2.   Give an example of an application where reducing False-Positive errors is more important than reducing False-Negative errors? Give an example of a system where reducing False-Negative errors is more important than reducing False-Positive errors?  Justify both your answers. (10 marks)\n",
        "\n",
        "\n",
        "## 3.2 Convolutional and Pooling Layers (35)\n",
        "\n",
        "The disadvantage of fully connected layers, is that we disregard (flatten) local spatial characteristics in an image.  Since convolution is a linear operation, which \"reports\" the response of a image to a kernel/filter, it is an idea replacement.  However, this increases the number of learnable parameters in our network as we replace our weight matrices $W_n$ with filters/kernels.  *Receptive fields* tell us that we don't need the \"keep\" all of the input tensor as we stack layers; we can essentially downsample without losing significant information.  This is done by using pooling layers and strided convolution.  The following questions cover convolution and pooling layers.\n",
        "\n",
        "For the following questions, use this input tensor:\n",
        "\n",
        "![](https://raw.githubusercontent.com/dash-uvic/ece471_536-S2022/main/images/A4/input_tensor.png)\n",
        "\n",
        "\n",
        "1.  The input tensor above is subjected to a MaxPool operation with a kernel of 2x2 with a stride of 2 (no padding).  Show the resulting output tensor. (5 marks)\n",
        "\n",
        "\n",
        "2.  The input tensor above is subjected to a Average Pool operation with a kernel of 2x2 with a stride of 2 (no padding). Show the resulting output tensor. (5 marks)\n",
        "\n",
        "\n",
        "\n",
        "3.  A convolutional layer has a kernel of size 6x3x5x5.  Can this kernel be used on the input tensor provided? (2 mark)\n",
        "\n",
        "\n",
        "4. For a convolutional neural network with 10 x 10 input images, one convolutional layer with one 3 x 3 filter (one activation map, with padding=1), then one 2 x 2 max pooling layer (stride=2), and then one fully connected layers with three output units (for three-category\n",
        "classification problems). How many weights (not including bias terms) are updated during training? (3 points)\n",
        "\n",
        "\n",
        "For the following questions, us the simple convolutional layer with an input layer $X_{3x3x3}$ and a filter $w_{3x3x3}$, with a $bias = 1$. :\n",
        "![](https://raw.githubusercontent.com/dash-uvic/ece471_536-S2022/main/images/A4/conv.png)\n",
        "\n",
        "\n",
        "5. Perform **valid** convolution by hand with a stride=1 using the values below, and bias.  You do not need to rotate the filters. (10 points).\n",
        "\n",
        "\n",
        "6. Perform **same** convolution by hand with a stride=1 using the values below, and bias.  You do not need to rotate the filters. (10 points).   \n",
        "\n",
        "\n",
        "\n",
        "\n"
      ]
    },
    {
      "cell_type": "markdown",
      "metadata": {
        "id": "dRhMh6tJjvcc"
      },
      "source": [
        "# **3. Programming: introduction to Python, Colab and OpenCV**"
      ]
    },
    {
      "cell_type": "markdown",
      "metadata": {
        "id": "0D4ecEgtjzOY"
      },
      "source": [
        "### **3.1 Basic image operations**\n",
        "\n",
        "\n",
        "---\n",
        "\n",
        "\n",
        "\n",
        "---\n"
      ]
    },
    {
      "cell_type": "code",
      "execution_count": 2,
      "metadata": {
        "colab": {
          "base_uri": "https://localhost:8080/",
          "height": 483
        },
        "id": "b_yOTMF-S_e-",
        "outputId": "35c2efb2-fcfe-438c-daa1-b8b6bf99a73d"
      },
      "outputs": [
        {
          "output_type": "stream",
          "name": "stdout",
          "text": [
            "Looking in indexes: https://pypi.org/simple, https://us-python.pkg.dev/colab-wheels/public/simple/\n",
            "\u001b[31mERROR: Could not find a version that satisfies the requirement scikit-image== (from versions: 0.7.2, 0.8.0, 0.8.1, 0.8.2, 0.9.0, 0.9.1, 0.9.3, 0.10.0, 0.10.1, 0.11.2, 0.11.3, 0.12.0, 0.12.1, 0.12.2, 0.12.3, 0.13.0, 0.13.1, 0.14.0, 0.14.1, 0.14.2, 0.14.3, 0.14.5, 0.15.0, 0.16.2, 0.17.1, 0.17.2, 0.18.0, 0.18.1, 0.18.2, 0.18.3, 0.19.0rc0, 0.19.0, 0.19.1, 0.19.2, 0.19.3, 0.20.0.dev0, 0.20.0rc2, 0.20.0rc3, 0.20.0rc4, 0.20.0rc5, 0.20.0rc6, 0.20.0rc7, 0.20.0rc8, 0.20.0)\u001b[0m\u001b[31m\n",
            "\u001b[0m\u001b[31mERROR: No matching distribution found for scikit-image==\u001b[0m\u001b[31m\n",
            "\u001b[0mLooking in indexes: https://pypi.org/simple, https://us-python.pkg.dev/colab-wheels/public/simple/\n",
            "Collecting Pillow==9.0.0\n",
            "  Downloading Pillow-9.0.0-cp39-cp39-manylinux_2_17_x86_64.manylinux2014_x86_64.whl (4.3 MB)\n",
            "\u001b[2K     \u001b[90m━━━━━━━━━━━━━━━━━━━━━━━━━━━━━━━━━━━━━━━━\u001b[0m \u001b[32m4.3/4.3 MB\u001b[0m \u001b[31m24.3 MB/s\u001b[0m eta \u001b[36m0:00:00\u001b[0m\n",
            "\u001b[?25hInstalling collected packages: Pillow\n",
            "  Attempting uninstall: Pillow\n",
            "    Found existing installation: Pillow 8.4.0\n",
            "    Uninstalling Pillow-8.4.0:\n",
            "      Successfully uninstalled Pillow-8.4.0\n",
            "Successfully installed Pillow-9.0.0\n"
          ]
        },
        {
          "output_type": "display_data",
          "data": {
            "application/vnd.colab-display-data+json": {
              "pip_warning": {
                "packages": [
                  "PIL"
                ]
              }
            }
          },
          "metadata": {}
        },
        {
          "output_type": "stream",
          "name": "stdout",
          "text": [
            "----------------------------------------\n",
            "Python version: 3.9.16 (main, Dec  7 2022, 01:11:51) \n",
            "[GCC 9.4.0]\n",
            "OpenCV version: 4.7.0\n",
            "\n",
            "Thank you for reading the instructions.\n",
            "----------------------------------------\n"
          ]
        }
      ],
      "source": [
        "#We need version 0.19.2 for SIFT \n",
        "!pip install -U scikit-image==\n",
        "!pip install Pillow==9.0.0\n",
        "\n",
        "from sklearn.utils import shuffle\n",
        "from matplotlib import pyplot as plt\n",
        "from skimage import data, exposure\n",
        "from google.colab import files\n",
        "import sys\n",
        "import cv2\n",
        "import os\n",
        "import numpy as np\n",
        "import requests, tarfile, tqdm\n",
        "\n",
        "print('-'*40)\n",
        "print ('Python version: {}'.format(sys.version))\n",
        "print('OpenCV version: {}'.format(cv2.__version__))\n",
        "\n",
        "if not READ_THE_INSTRUCTIONS_FLAG:\n",
        "  raise Exception('Please go back and read the instructions.')\n",
        "else:\n",
        "  print('\\nThank you for reading the instructions.')\n",
        "print('-'*40)\n"
      ]
    },
    {
      "cell_type": "code",
      "execution_count": 3,
      "metadata": {
        "colab": {
          "base_uri": "https://localhost:8080/"
        },
        "id": "FUXdKA8Y4fNz",
        "outputId": "63f55f5e-26d1-4b42-8b0c-805d789fb04f"
      },
      "outputs": [
        {
          "output_type": "stream",
          "name": "stderr",
          "text": [
            "170498071it [01:54, 1492625.99it/s]\n"
          ]
        },
        {
          "output_type": "stream",
          "name": "stdout",
          "text": [
            "(15000, 32, 32, 3) (3000, 32, 32, 3)\n",
            "(15000,) (3000,)\n",
            "['airplane', 'cat', 'frog']\n",
            "(15000, 32, 32, 3) (3000, 32, 32, 3)\n",
            "['airplane', 'cat', 'frog']\n"
          ]
        }
      ],
      "source": [
        "from IPython.utils.py3compat import decode\n",
        "# Helper function provided to you (from the CIFAR website)\n",
        "import pickle\n",
        "def unpickle(file_name):                                       \n",
        "    \"\"\"unpickle function from CIFAR10 webpage\"\"\"               \n",
        "    with open(file_name, 'rb') as fo:                          \n",
        "        dict = pickle.load(fo, encoding='bytes')               \n",
        "    return dict\n",
        "\n",
        "def load_cifar_dataset(data_dir, keep_index=None, seed=0):\n",
        "  # ~~~~~~~START TODO~~~~~~~~~\n",
        "  # (15 points): Load the CIFAR-10 dataset\n",
        "  # CIFAR-10 is a dataset consisting of ten classes; the label names are in a Python dictionary\n",
        "  # stored in `batches.meta` in the data_dir.  It comes in 5 train batches `data_batch_[1-5]` and \n",
        "  # 1 `test_batch` binary files.\n",
        "  # They are each pickled Python dictionaries that have two keys: data, and labels.  \n",
        "  # Extract the required data/labels for each train/test split and return them, and class labels,\n",
        "  # in the manner described below.\n",
        "  #\n",
        "  # You will filter the dataset to keep classes in the `keep_index` \n",
        "  #\n",
        "  # Suggested functions: np.concatenate, np.transpose, np.reshape, unpickle (provided see above), np.stack, np.newaxis\n",
        "\n",
        "  #NOTE: For further details on the data setup, visit the dataset website: https://www.cs.toronto.edu/~kriz/cifar.html\n",
        "\n",
        "    # 1. Unpickle and extract the class labels (b'label_names') from 'batches.meta' \n",
        "    #      NOTE: You'll want to decode the binary strings to normal strings\n",
        "    # 2. Unpickle the extracted file and concatenate the 5 batches 'data_batch_[1-5]' into a train data numpy array\n",
        "    # 3. Unpickle the extracted file and convert 'test_batch' into a test data numpy array\n",
        "    # 4. Remove any data/labels that are not in keep_index and create a new class labels array\n",
        "    # 5. Concatenate the train/test labels into separate numpy arrays\n",
        "    # 6. Turn data into (NxHxWxC) format, so that we can easily process it, where\n",
        "    #     N=number of images, H=height, W=width, C=channels.\n",
        "    # 7. Use the sklearn.utils.shuffle 'shuffle' function to shuffle your train data and train labels, make sure to seed the random_state\n",
        "  \n",
        "  # Source: https://github.com/snatch59/load-cifar-10/blob/master/load_cifar_10.py\n",
        "  meta_file = os.path.join(data_dir, 'batches.meta')\n",
        "  meta_data = unpickle(meta_file)\n",
        "  label_names = [name.decode('utf-8') for name in meta_data[b'label_names']]\n",
        "\n",
        "  train_data = []\n",
        "  train_label = []\n",
        "  for i in range(1, 6):\n",
        "    file_name = os.path.join(data_dir, f'data_batch_{i}')\n",
        "    data_batch = unpickle(file_name)\n",
        "    train_data.append(data_batch[b'data'])\n",
        "    train_label.append(data_batch[b'labels'])\n",
        "  train_data = np.concatenate(train_data, axis=0)\n",
        "  train_label = np.concatenate(train_label, axis=0)\n",
        "\n",
        "  file_name = os.path.join(data_dir, 'test_batch')\n",
        "  test_batch = unpickle(file_name)\n",
        "  test_data = test_batch[b'data']\n",
        "  test_label = np.array(test_batch[b'labels'])\n",
        "\n",
        "  class_labels = []\n",
        "  if keep_index is not None:\n",
        "    train_mask = np.isin(train_label, keep_index)\n",
        "    test_mask = np.isin(test_label, keep_index)\n",
        "    train_data = train_data[train_mask]\n",
        "    train_label = train_label[train_mask]\n",
        "    test_data = test_data[test_mask]\n",
        "    test_label = test_label[test_mask]\n",
        "    class_labels = [label_names[i] for i in keep_index]\n",
        "\n",
        "  train_label = np.array(train_label)\n",
        "  test_label = np.array(test_label)\n",
        "\n",
        "  train_data = train_data.reshape(-1, 3, 32, 32).transpose(0, 2, 3, 1)\n",
        "  test_data = test_data.reshape(-1, 3, 32, 32).transpose(0, 2, 3, 1)\n",
        "\n",
        "  train_data, train_label = shuffle(train_data, train_label, random_state=seed)\n",
        "  # ~~~~~~~~END TODO~~~~~~~~~~\n",
        "  \n",
        "  return train_data, train_label, test_data, test_label, class_labels\n",
        "\n",
        "\n",
        "data_url    = \"https://www.cs.toronto.edu/~kriz/cifar-10-python.tar.gz\"\n",
        "data_dir    = \"/content/cifar-10-batches-py\" \n",
        "keep_index  = [0,3,6] #airplane, cat, frog\n",
        "if not os.path.exists(data_dir): \n",
        "  tarball = requests.get(data_url)\n",
        "  with open(\"cifar-10-python.tar.gz\", \"wb\") as handle:\n",
        "    for data in tqdm.tqdm(tarball.iter_content()):\n",
        "        handle.write(data)\n",
        "  with tarfile.open(\"cifar-10-python.tar.gz\") as fp:\n",
        "    fp.extractall(\"/content\")\n",
        "\n",
        "train_data, train_labels, test_data, test_labels, class_labels = load_cifar_dataset(data_dir, keep_index)\n",
        "\n",
        "print(train_data.shape, test_data.shape)\n",
        "print(train_labels.shape, test_labels.shape)\n",
        "print(class_labels)\n",
        "\n",
        "assert len(train_data)==len(train_labels), 'Your train data and labels dont have the same number of elements'\n",
        "assert len(test_data)==len(test_labels), 'Your test data and labels dont have the same number of elements'\n",
        "\n",
        "print(train_data.shape, test_data.shape)\n",
        "print(class_labels)"
      ]
    },
    {
      "cell_type": "code",
      "execution_count": 274,
      "metadata": {
        "colab": {
          "base_uri": "https://localhost:8080/",
          "height": 213
        },
        "id": "WliP1pKGHe0O",
        "outputId": "9774c66b-cadc-4648-c710-36b08dbeabc5"
      },
      "outputs": [
        {
          "output_type": "display_data",
          "data": {
            "text/plain": [
              "<Figure size 720x720 with 7 Axes>"
            ],
            "image/png": "[encoded data removed]"
          },
          "metadata": {
            "needs_background": "light"
          }
        },
        {
          "output_type": "display_data",
          "data": {
            "text/plain": [
              "<Figure size 720x720 with 7 Axes>"
            ],
            "image/png": "[encoded data removed]"
          },
          "metadata": {
            "needs_background": "light"
          }
        }
      ],
      "source": [
        "def display(data, labels, class_labels, display_n=5):\n",
        "    columns = display_n\n",
        "    rows = 1\n",
        "    fig= plt.figure(figsize=(10, 10)) \n",
        "    for i in range(display_n): \n",
        "      i+=1\n",
        "      fig.add_subplot(rows, columns, i)\n",
        "      plt.imshow(data[i])\n",
        "      plt.axis('off') \n",
        "      # Fixed issue with index calculation\n",
        "      index=int(labels[i]/3)\n",
        "      plt.title(class_labels[index]) \n",
        "    plt.show()\n",
        "\n",
        "display(train_data, train_labels, class_labels, 7)\n",
        "display(test_data, test_labels, class_labels, 7) "
      ]
    },
    {
      "cell_type": "code",
      "execution_count": 5,
      "metadata": {
        "id": "SwfBct_hJlcY",
        "outputId": "e7d230ca-f630-4480-bd23-cf282db52d05",
        "colab": {
          "base_uri": "https://localhost:8080/"
        }
      },
      "outputs": [
        {
          "output_type": "stream",
          "name": "stdout",
          "text": [
            "(3000,) (12000,)\n",
            "(3000, 32, 32, 3) (12000, 32, 32, 3)\n"
          ]
        }
      ],
      "source": [
        "# ~~~~~~~START TODO~~~~~~~~~\n",
        "# (5 points): Split your training data into trian and val data.\n",
        "# Take the first 20% of your data and move it into new arrays for val_data and val_labels\n",
        "# Update your train_data and train_labels with the other 80% of data. \n",
        "data = train_data.copy()\n",
        "n_data_samples = data.shape[0]\n",
        "n_data_percentage = int(0.8*n_data_samples)\n",
        "\n",
        "train_data = data[:n_data_percentage]\n",
        "val_data = data[n_data_percentage:]\n",
        "\n",
        "labels = train_labels.copy()\n",
        "n_label_samples = labels.shape[0]\n",
        "n_label_percentage = int(0.8*n_label_samples)\n",
        "\n",
        "train_labels = labels[:n_label_percentage]\n",
        "val_labels = labels[n_label_percentage:]\n",
        "# ~~~~~~~~END TODO~~~~~~~~~~\n",
        "print(val_labels.shape, train_labels.shape)\n",
        "print(val_data.shape, train_data.shape)\n"
      ]
    },
    {
      "cell_type": "markdown",
      "metadata": {
        "id": "Y2g8W5HLLlft"
      },
      "source": [
        "Now that your train and test data are correctly loaded and pre-processed, you need to extract meaningful visual features from them. These features are going to drive machine leaarning-based image classifications tasks. Since such classifiers are trained and tested based on the features extracted, their design and quality (i.e., how well they represent/generalize the data) are paramount in the performance of the system.\n",
        "\n",
        "In this assignment we are going to work with . Note that recent deep learning-based approaches also calculate similar features, but mostly using convolutional kernels in an efficient [1] manner.\n",
        "\n",
        "You have been provided with the following feature extractor wrapper.  For this assignment you will be evaluating the performance of the HOG and SIFT implementations provide by `scikit-image` and raw RGB values.  For SIFT, we will only use the keypoint descriptor closest to the center of the (32,32) CIFAR images.\n",
        "\n",
        "[1] Krizhevsky A, Sutskever I, Hinton GE. Imagenet classification with deep convolutional neural networks. Communications of the ACM. 2017 May 24;60(6):84-90."
      ]
    },
    {
      "cell_type": "code",
      "execution_count": 6,
      "metadata": {
        "id": "h2vDiYIiLyYX",
        "outputId": "facec8e4-9204-4d3e-a753-608158ab9e63",
        "colab": {
          "base_uri": "https://localhost:8080/"
        }
      },
      "outputs": [
        {
          "output_type": "stream",
          "name": "stdout",
          "text": [
            "(3000, 324)\n"
          ]
        }
      ],
      "source": [
        "def extract_hog_features(data):\n",
        "  from skimage.feature import hog\n",
        "  from skimage.color import rgb2gray\n",
        "  # ~~~~~~~START TODO~~~~~~~~~\n",
        "  # (2 points): Extract hog features for each image in the input array.\n",
        "  # You should first use the rgb2gray fucntion above on each image to convert it to greyscale.\n",
        "  # Then you should apply the hog function above, with dytype=np.foat32\n",
        "  # You should reshape the output appropriately for the new hog features and data samples.\n",
        "  data_hog = []\n",
        "  for i in range(data.shape[0]):\n",
        "    grayscale = rgb2gray(data[i])\n",
        "    hog_image = hog(grayscale).astype(dtype=np.float32)\n",
        "    data_hog.append(hog_image.reshape(-1))\n",
        "    \n",
        "  data_hog = np.array(data_hog)\n",
        "  # ~~~~~~~~END TODO~~~~~~~~~~\n",
        "  return data_hog\n",
        "\n",
        "example_hog = extract_hog_features(val_data)\n",
        "print(example_hog.shape)"
      ]
    },
    {
      "cell_type": "markdown",
      "metadata": {
        "id": "z324mlPXPnIB"
      },
      "source": [
        "We are going to test the efficacy of the three feature extraction method HOG by creating a Logistic Regresion Classifier (also know as maximum-entropy classification, log-linear classifier).\n",
        " \n",
        "Note that we are working with a **classification** task: the independent variables (i.e., features) are going to determine the probability that a discrete value (class) happens. In the end, the dependent variable (output) can only assume a fixed number of values—the classes of the training data (for our datasets of 3 classes). Another common machine learning-based task is **regression**, where the independent variables result in a *continuous* value for the dependent variable (output). A common supervised machine learning algorithm used in such cases is the **linear regression**, where a line is fit to the data to map the values from the features to the predicted, continuous output. \n",
        "\n",
        "**Refer to lecture notes from class for details on logistic regression and loss optimization.**\n",
        "\n",
        "Implement in `compute_loss` the multinomial logistic regression cross entropy loss for softmax from Lecture 13, with L2-norm regularization, which is defined as follows:\n",
        "\n",
        "$L_i = -log(p_{y_i}) + \\lambda R = -log\\frac{e^{s_{y_i}}}{\\sum_j e^{s_j}} + \\lambda ||W||^2$\n",
        "\n",
        "where i is the sample index. For numerical stability, add the term $C_i$,\n",
        "\n",
        "$L_i = -log\\frac{e^{{s_i}-C_i}}{\\sum_j e^{s_{ij}-C_i}}+ \\lambda ||W||^2$\n",
        "\n",
        "where $C_i = max_j s_{ij}$ to ensure numerical stability.\n",
        "\n",
        "\n",
        "You will also implement the loss optimization using cross entropy and softmax in `compute_grad`. "
      ]
    },
    {
      "cell_type": "code",
      "execution_count": 7,
      "metadata": {
        "id": "XcaQOW_APd2e"
      },
      "outputs": [],
      "source": [
        "def softmax(z):\n",
        "    \"\"\"Computes the softmax function.\"\"\"\n",
        "    #for numerical stabiliy, use C_ij\n",
        "    e = np.exp(z - np.max(z, axis=1, keepdims=True))\n",
        "    #calculate the softmax\n",
        "    return e / np.sum(e, axis=1, keepdims=True)\n",
        "  "
      ]
    },
    {
      "cell_type": "code",
      "execution_count": 313,
      "metadata": {
        "id": "mnAHOBwWPg3Z",
        "colab": {
          "base_uri": "https://localhost:8080/"
        },
        "outputId": "83ca1fd6-79d8-4abc-ec9c-98d061c9e5f1"
      },
      "outputs": [
        {
          "output_type": "stream",
          "name": "stdout",
          "text": [
            "Spot Check this should be *NEARLY* exactly the expected values.\n",
            "(19.031250498223855, array([[0.18553095, 0.25893903, 0.02080741, 0.18226322, 0.3524594 ],\n",
            "       [0.0048585 , 0.03987965, 0.00357538, 0.91750968, 0.03417679]]))\n"
          ]
        }
      ],
      "source": [
        "def compute_loss(W, b, x, y, lmbda):\n",
        "  # ~~~~~~~START TODO~~~~~~~~~    \n",
        "  # (8 points): Computes cross entropy loss\n",
        "  #W : (D, C), weight parameters\n",
        "  #b : (C, ),  bias parameter\n",
        "  #x : (B, D), x feature vector\n",
        "  #y : (B, D), y label vector\n",
        "  #D = dimension/length of the feature vector\n",
        "  #C = number of classes\n",
        "  #B = batch size\n",
        "  #N = Number of samples in batch\n",
        "  #Returns: loss, probs\n",
        "  #For the `probs`, you want to probably save the “probabilities” for being each class for all samples, \n",
        "  #that is, the value that goes in the log. This, x, and y should be the only things \n",
        "  #that you need when you compute the gradient later on.\n",
        "  # 1. Calculate scores for all classes (N, 3) from formula xW+b (3 classes one-hot encoded)                                                  \n",
        "  # 2. Get the probabilities for the scores using the softmax function\n",
        "  # 3. Calculate the negative log-liklyhood/cross entropy loss for all classes                     \n",
        "  # 4. Average the loss over all classes     \n",
        "  # 5. Add the L2-norm regularization term to the loss                     \n",
        "  # 6. Return the average loss, probabilities\n",
        "  # Source: https://towardsdatascience.com/cross-entropy-loss-function-f38c4ec8643e\n",
        "  batch_size = min(x.shape)\n",
        "  classes = min(W.shape)\n",
        "\n",
        "  scores = np.dot(x, W)+b\n",
        "  probs = softmax(scores)\n",
        "  probs = probs.reshape(-1, classes)\n",
        "  \n",
        "  y = np.ceil((y/3)).astype('int32')\n",
        "  y_flat = y.flatten()\n",
        "  y_onehot = np.eye(classes)[y_flat]\n",
        "  loss = -1/batch_size*np.sum(y_onehot*np.log(probs))+lmbda*np.linalg.norm(W)**2\n",
        "  # ~~~~~~~~END TODO~~~~~~~~~~\n",
        "  return loss, probs\n",
        "\n",
        "np.random.seed(0)\n",
        "def a_s(shape): return np.reshape(np.arange(0,np.prod(shape)),shape) \n",
        "def r_s(shape): return np.random.random(size=shape) \n",
        "# Note the shapes for this testing are not your expected shapes for the actual training\n",
        "print('Spot Check this should be *NEARLY* exactly the expected values.')\n",
        "print(compute_loss( r_s((100,5)), r_s((5,)), r_s((2,100)), a_s((2,)), 0.1))"
      ]
    },
    {
      "cell_type": "code",
      "execution_count": 350,
      "metadata": {
        "id": "OK1bz5YwPi55",
        "colab": {
          "base_uri": "https://localhost:8080/"
        },
        "outputId": "8be9d9be-ded4-4d38-88cc-9af449643cf3"
      },
      "outputs": [
        {
          "output_type": "stream",
          "name": "stdout",
          "text": [
            "Spot Check this should be *NEARLY* exactly the expected values.\n",
            "[0.02122597 0.11344071 0.13882725 0.12794529 0.19386747]\n",
            "0.36986607373914293\n"
          ]
        }
      ],
      "source": [
        "def compute_grad(W, x, y, probs, lmbda):\n",
        "  \"\"\"Computes the gradient for cross entropy loss.\"\"\"\n",
        "  # ~~~~~~~START TODO~~~~~~~~~    \n",
        "  # (10 points): Computes logistic regression gradients to update weights\n",
        "  # 1. Create one-hot encoding indexer `target`, for example [1] becomes [1,0,0,0,0] for 5 possible classes\n",
        "  # 2. Calculate the derivative of the loss function w.r.t W (dW)\n",
        "  # 3. Calculate the deriviative of the loss function w.r.t b (db)\n",
        "  # 4. Add the gradient of the L2-norm regularization term to dW\n",
        "  # TODO: Compute dW\n",
        "  # TODO: Compute db\n",
        "  batch_size = max(probs.shape)\n",
        "  classes = min(probs.shape)\n",
        "\n",
        "  target = np.eye(classes, batch_size)\n",
        "  if probs.shape != target.shape:\n",
        "    target = target.T \n",
        "\n",
        "  dL_dZ = probs-target\n",
        "  dW = 1/classes*np.dot(x.T, dL_dZ) + 2*lmbda*W\n",
        "  db = -1/classes*np.sum(dL_dZ, axis=0)\n",
        "  # ~~~~~~~~END TODO~~~~~~~~~~\n",
        "  return dW, db\n",
        "\n",
        "np.random.seed(0)\n",
        "def a_s(shape): return np.reshape(np.arange(0,np.prod(shape)),shape) \n",
        "def r_s(shape): return np.random.random(size=shape) \n",
        "# Note the shapes for this testing are not your expected shapes for the actual training\n",
        "print('Spot Check this should be *NEARLY* exactly the expected values.')\n",
        "print(compute_grad( r_s((100,5)), r_s((2,100)), a_s((2,)), r_s((2,5)),  0.1)[0][0])\n",
        "print(compute_grad( r_s((100,5)), r_s((2,100)), a_s((2,)), r_s((2,5)),  0.1)[1][0])"
      ]
    },
    {
      "cell_type": "code",
      "execution_count": 80,
      "metadata": {
        "id": "-6GBLBsRdilW"
      },
      "outputs": [],
      "source": [
        "def predict(x, W, b):\n",
        "    \"\"\" get the current model (W,b) label predictions of data x \"\"\"\n",
        "    s_all = np.matmul(x, W) + b\n",
        "    pred = np.argmax(s_all, axis=1)\n",
        "    return pred\n",
        "\n",
        "def generate_batches(x,y,batch_size):\n",
        "    #Randomize the data order for each batch\n",
        "    idx = np.arange(len(y))\n",
        "    np.random.shuffle(idx)\n",
        "    x_ = x[idx]\n",
        "    y_ = y[idx]\n",
        "    n_batches = len(y) // batch_size\n",
        "\n",
        "    assert x_.shape == x.shape\n",
        "\n",
        "    x_ = np.reshape(x_, (n_batches, batch_size, -1))\n",
        "    y_ = np.reshape(y_, (n_batches, batch_size))\n",
        "\n",
        "    return x_, y_"
      ]
    },
    {
      "cell_type": "code",
      "execution_count": 347,
      "metadata": {
        "id": "EEoemXKobb6Z"
      },
      "outputs": [],
      "source": [
        "def train(tr_x, tr_y, va_x, va_y, class_labels, train_params):\n",
        "    \"\"\"Training function.\n",
        "      Parameters\n",
        "      ----------\n",
        "      tr_x : ndarray, train data.\n",
        "\n",
        "      tr_y : ndarray, train labels.\n",
        "\n",
        "      te_x : ndarray, test data.\n",
        "\n",
        "      te_y : ndarray, test labels.\n",
        "\n",
        "      train_params: dict, training hyperparameters\n",
        "\n",
        "      Returns: \n",
        "            dictionary of train results      \n",
        "    \"\"\"\n",
        "\n",
        "    print(\"Testing...\")\n",
        "    batch_size = train_params[\"batch_size\"]\n",
        "    num_epochs = train_params[\"num_epochs\"]\n",
        "    learning_rate = train_params[\"learning_rate\"]\n",
        "    lmbda = train_params[\"lambda\"]\n",
        "  \n",
        "    num_classes = len(class_labels)\n",
        "    D = tr_x.shape[-1] \n",
        "    \n",
        "    # ~~~~~~~START TODO~~~~~~~~~    \n",
        "    # (25 points for entire block all TODOs):\n",
        "    # 1. Initialize W to very small random values. e.g. random values between\n",
        "    # -0.001 and 0.001\n",
        "    # 2. Initialize b to zeros\n",
        "    # 3. For each epoch\n",
        "    #    a. Report average (3072, 10) (10,) (32, 3072) (32, 3072)training and prediction accuracy results\n",
        "    #    b. Calculate the prediction accuracy of the current model on the test\n",
        "    #         data set\n",
        "    #    c. If we have achieved a better validation accuracy than before, save \n",
        "    #       the current W and b\n",
        "    #    d. Plot the average loss, validation and training accuracies\n",
        "    num_batch = int(tr_x.shape[0]/batch_size)\n",
        "    W = np.random.uniform(low=-0.001, high=0.001, size=(D, num_classes))\n",
        "    b = np.zeros(num_classes)\n",
        "\n",
        "    W_best = W.copy()\n",
        "    b_best = b.copy()\n",
        "    # ~~~~~~~~END TODO~~~~~~~~~~\n",
        "\n",
        "    #print(\"Initial Validation Accuracy: {}%\".format(acc * 100))\n",
        "\n",
        "    for idx_epoch in range(num_epochs):\n",
        "      losses = np.zeros(num_batch)\n",
        "      accs = np.zeros(num_batch)\n",
        "      # ~~~~~~~START TODO~~~~~~~~~    \n",
        "      # 4. Create a random order to go through the data using generate_batches\n",
        "      x, y = generate_batches(tr_x, tr_y, batch_size)\n",
        "      for idx_batch in range(num_batch):\n",
        "        # ~~~~~~~CONTINUE TODO~~~~~~~~\n",
        "        # 5. For each training batch:\n",
        "        #    a. construct a batch of of the training data\n",
        "        #    - NOTE: ensure that your labels/data pairings are correct\n",
        "        #    b. Get cross entropy loss with compute_loss\n",
        "        #    c. Get gradient with compute_grad\n",
        "        #    d. Update the parametres, W, b using the gradients\n",
        "                # W = W - lr * dW \n",
        "                # b = b - lr * db \n",
        "        #    3. Save the current train loss and prediction accuracy \n",
        "        idx_start = idx_batch*batch_size \n",
        "        idx_end = idx_start+batch_size \n",
        "        x_batch = x[idx_start:idx_end]\n",
        "        y_batch = y[idx_start:idx_end]\n",
        "        loss, probs = compute_loss(W, b, x_batch, y_batch, lmbda)\n",
        "        dW, db = compute_grad(W, x_batch, y_batch, probs, lmbda)\n",
        "        prediction = predict(x_batch, W, b)\n",
        "\n",
        "        W -= learning_rate*dW \n",
        "        b -= learning_rate*db\n",
        "\n",
        "        losses[idx_epoch] = loss \n",
        "        accs[idx_epoch] = prediction\n",
        "        # ~~~~~~~~END TODO~~~~~~~~~~\n",
        "\n",
        "    # ~~~~~~~START TODO~~~~~~~~~    \n",
        "    # Predict on validation data and gnerate predictions and accuracy.\n",
        "    # If best validation accuracy, update W_best, b_best, and best\n",
        "    # accuracy. We will only return the best W and b\n",
        "    acc_val = predict(te_x, W, b)\n",
        "    if acc_val > np.argmax(accs):\n",
        "      W_best = W\n",
        "      b_best = b \n",
        "      acc = acc_val\n",
        "    # ~~~~~~~~END TODO~~~~~~~~~~\n",
        "        \n",
        "    if idx_epoch % 5 == 0:    \n",
        "      # Report average results within this epoch\n",
        "      print(\"Epoch {} -- Train Loss: {}\".format(\n",
        "          idx_epoch, np.mean(losses)))\n",
        "      print(\"Epoch {} -- Train Accuracy: {:.2f}%\".format(\n",
        "          idx_epoch, np.mean(accs) * 100))\n",
        "      print(\"Epoch {} -- Validation Accuracy: {:.2f}%\".format(\n",
        "        idx_epoch, acc * 100))\n",
        "\n",
        "    loss_epoch += [np.mean(losses)]\n",
        "    tr_acc_epoch += [np.mean(accs)]\n",
        "    va_acc_epoch += [acc]\n",
        "\n",
        "    # Pack results. \n",
        "    train_res = {}\n",
        "    train_res[\"W\"] = W_best\n",
        "    train_res[\"b\"] = b_best\n",
        "    train_res[\"loss\"] = loss_epoch\n",
        "    train_res[\"tr_acc\"] = tr_acc_epoch\n",
        "    train_res[\"va_acc\"] = va_acc_epoch\n",
        "\n",
        "    return train_res"
      ]
    },
    {
      "cell_type": "code",
      "execution_count": 351,
      "metadata": {
        "id": "ISxRQBnibjGA",
        "outputId": "e2459842-9d4f-4bd7-de6d-cea038b9073a",
        "colab": {
          "base_uri": "https://localhost:8080/",
          "height": 390
        }
      },
      "outputs": [
        {
          "output_type": "stream",
          "name": "stdout",
          "text": [
            "Training parameters: {'batch_size': 100, 'num_epochs': 200, 'learning_rate': 0.0001, 'lambda': 1.0}\n",
            "Training data before: mean 0.08396731317043304, std 0.07276792079210281, min 0.0, max 0.5034471750259399\n",
            "Training data after: mean 1.5168479184179093e-18, std 0.23931653912739112, min -0.44610811892399527, max 1.0\n",
            "Test data after: mean -0.0010045814909442207, std 0.23974573069003602, min -0.44610811892399527, max 1.4409047275845441\n",
            "Testing...\n"
          ]
        },
        {
          "output_type": "error",
          "ename": "ValueError",
          "evalue": "ignored",
          "traceback": [
            "\u001b[0;31m---------------------------------------------------------------------------\u001b[0m",
            "\u001b[0;31mValueError\u001b[0m                                Traceback (most recent call last)",
            "\u001b[0;32m<ipython-input-351-ecfed9e499fb>\u001b[0m in \u001b[0;36m<module>\u001b[0;34m\u001b[0m\n\u001b[1;32m     44\u001b[0m \u001b[0;34m\u001b[0m\u001b[0m\n\u001b[1;32m     45\u001b[0m \u001b[0;31m#hog: (N, 324)\u001b[0m\u001b[0;34m\u001b[0m\u001b[0;34m\u001b[0m\u001b[0m\n\u001b[0;32m---> 46\u001b[0;31m \u001b[0mtrain_res\u001b[0m \u001b[0;34m=\u001b[0m \u001b[0mtrain\u001b[0m\u001b[0;34m(\u001b[0m\u001b[0mtr_x\u001b[0m\u001b[0;34m,\u001b[0m \u001b[0mtrain_labels\u001b[0m\u001b[0;34m,\u001b[0m \u001b[0mva_x\u001b[0m\u001b[0;34m,\u001b[0m \u001b[0mval_labels\u001b[0m\u001b[0;34m,\u001b[0m \u001b[0mclass_labels\u001b[0m\u001b[0;34m,\u001b[0m \u001b[0mtrain_params\u001b[0m\u001b[0;34m)\u001b[0m\u001b[0;34m\u001b[0m\u001b[0;34m\u001b[0m\u001b[0m\n\u001b[0m\u001b[1;32m     47\u001b[0m \u001b[0mall_results\u001b[0m\u001b[0;34m[\u001b[0m\u001b[0;34m'hog'\u001b[0m\u001b[0;34m]\u001b[0m \u001b[0;34m=\u001b[0m \u001b[0mtrain_res\u001b[0m\u001b[0;34m\u001b[0m\u001b[0;34m\u001b[0m\u001b[0m\n\u001b[1;32m     48\u001b[0m \u001b[0;34m\u001b[0m\u001b[0m\n",
            "\u001b[0;32m<ipython-input-347-1d1045572ad1>\u001b[0m in \u001b[0;36mtrain\u001b[0;34m(tr_x, tr_y, va_x, va_y, class_labels, train_params)\u001b[0m\n\u001b[1;32m     70\u001b[0m         \u001b[0my_batch\u001b[0m \u001b[0;34m=\u001b[0m \u001b[0my\u001b[0m\u001b[0;34m[\u001b[0m\u001b[0midx_start\u001b[0m\u001b[0;34m:\u001b[0m\u001b[0midx_end\u001b[0m\u001b[0;34m]\u001b[0m\u001b[0;34m\u001b[0m\u001b[0;34m\u001b[0m\u001b[0m\n\u001b[1;32m     71\u001b[0m         \u001b[0mloss\u001b[0m\u001b[0;34m,\u001b[0m \u001b[0mprobs\u001b[0m \u001b[0;34m=\u001b[0m \u001b[0mcompute_loss\u001b[0m\u001b[0;34m(\u001b[0m\u001b[0mW\u001b[0m\u001b[0;34m,\u001b[0m \u001b[0mb\u001b[0m\u001b[0;34m,\u001b[0m \u001b[0mx_batch\u001b[0m\u001b[0;34m,\u001b[0m \u001b[0my_batch\u001b[0m\u001b[0;34m,\u001b[0m \u001b[0mlmbda\u001b[0m\u001b[0;34m)\u001b[0m\u001b[0;34m\u001b[0m\u001b[0;34m\u001b[0m\u001b[0m\n\u001b[0;32m---> 72\u001b[0;31m         \u001b[0mdW\u001b[0m\u001b[0;34m,\u001b[0m \u001b[0mdb\u001b[0m \u001b[0;34m=\u001b[0m \u001b[0mcompute_grad\u001b[0m\u001b[0;34m(\u001b[0m\u001b[0mW\u001b[0m\u001b[0;34m,\u001b[0m \u001b[0mx_batch\u001b[0m\u001b[0;34m,\u001b[0m \u001b[0my_batch\u001b[0m\u001b[0;34m,\u001b[0m \u001b[0mprobs\u001b[0m\u001b[0;34m,\u001b[0m \u001b[0mlmbda\u001b[0m\u001b[0;34m)\u001b[0m\u001b[0;34m\u001b[0m\u001b[0;34m\u001b[0m\u001b[0m\n\u001b[0m\u001b[1;32m     73\u001b[0m         \u001b[0mprediction\u001b[0m \u001b[0;34m=\u001b[0m \u001b[0mpredict\u001b[0m\u001b[0;34m(\u001b[0m\u001b[0mx_batch\u001b[0m\u001b[0;34m,\u001b[0m \u001b[0mW\u001b[0m\u001b[0;34m,\u001b[0m \u001b[0mb\u001b[0m\u001b[0;34m)\u001b[0m\u001b[0;34m\u001b[0m\u001b[0;34m\u001b[0m\u001b[0m\n\u001b[1;32m     74\u001b[0m \u001b[0;34m\u001b[0m\u001b[0m\n",
            "\u001b[0;32m<ipython-input-350-86d758bf2cce>\u001b[0m in \u001b[0;36mcompute_grad\u001b[0;34m(W, x, y, probs, lmbda)\u001b[0m\n\u001b[1;32m     17\u001b[0m \u001b[0;34m\u001b[0m\u001b[0m\n\u001b[1;32m     18\u001b[0m   \u001b[0mdL_dZ\u001b[0m \u001b[0;34m=\u001b[0m \u001b[0mprobs\u001b[0m\u001b[0;34m-\u001b[0m\u001b[0mtarget\u001b[0m\u001b[0;34m\u001b[0m\u001b[0;34m\u001b[0m\u001b[0m\n\u001b[0;32m---> 19\u001b[0;31m   \u001b[0mdW\u001b[0m \u001b[0;34m=\u001b[0m \u001b[0;36m1\u001b[0m\u001b[0;34m/\u001b[0m\u001b[0mclasses\u001b[0m\u001b[0;34m*\u001b[0m\u001b[0mnp\u001b[0m\u001b[0;34m.\u001b[0m\u001b[0mdot\u001b[0m\u001b[0;34m(\u001b[0m\u001b[0mx\u001b[0m\u001b[0;34m.\u001b[0m\u001b[0mT\u001b[0m\u001b[0;34m,\u001b[0m \u001b[0mdL_dZ\u001b[0m\u001b[0;34m)\u001b[0m \u001b[0;34m+\u001b[0m \u001b[0;36m2\u001b[0m\u001b[0;34m*\u001b[0m\u001b[0mlmbda\u001b[0m\u001b[0;34m*\u001b[0m\u001b[0mW\u001b[0m\u001b[0;34m\u001b[0m\u001b[0;34m\u001b[0m\u001b[0m\n\u001b[0m\u001b[1;32m     20\u001b[0m   \u001b[0mdb\u001b[0m \u001b[0;34m=\u001b[0m \u001b[0;34m-\u001b[0m\u001b[0;36m1\u001b[0m\u001b[0;34m/\u001b[0m\u001b[0mclasses\u001b[0m\u001b[0;34m*\u001b[0m\u001b[0mnp\u001b[0m\u001b[0;34m.\u001b[0m\u001b[0msum\u001b[0m\u001b[0;34m(\u001b[0m\u001b[0mdL_dZ\u001b[0m\u001b[0;34m,\u001b[0m \u001b[0maxis\u001b[0m\u001b[0;34m=\u001b[0m\u001b[0;36m0\u001b[0m\u001b[0;34m)\u001b[0m\u001b[0;34m\u001b[0m\u001b[0;34m\u001b[0m\u001b[0m\n\u001b[1;32m     21\u001b[0m   \u001b[0;31m# ~~~~~~~~END TODO~~~~~~~~~~\u001b[0m\u001b[0;34m\u001b[0m\u001b[0;34m\u001b[0m\u001b[0m\n",
            "\u001b[0;32m/usr/local/lib/python3.9/dist-packages/numpy/core/overrides.py\u001b[0m in \u001b[0;36mdot\u001b[0;34m(*args, **kwargs)\u001b[0m\n",
            "\u001b[0;31mValueError\u001b[0m: shapes (324,100,100) and (10000,3) not aligned: 100 (dim 2) != 10000 (dim 0)"
          ]
        }
      ],
      "source": [
        "def normalize(data, data_mean=None, data_range=None):\n",
        "    data_f = data.astype(float)\n",
        "    # Make zero mean\n",
        "    if data_mean is None:\n",
        "        data_mean = np.mean(data_f, axis=0, keepdims=True)\n",
        "    data_n = data_f - data_mean\n",
        "    # Make range -1 and 1\n",
        "    if data_range is None:\n",
        "        data_range = np.max(np.abs(data_n), axis=0, keepdims=True)\n",
        "    data_n = data_n / data_range\n",
        "    #Return the normalized data, the pre-normalized data mean, and data range\n",
        "    return data_n, data_mean, data_range\n",
        "\n",
        "#Default training parameters for logistic regression\n",
        "train_params = {\n",
        "  'batch_size' : 100,\n",
        "  'num_epochs' : 200,\n",
        "  'learning_rate' : 1e-4,\n",
        "  'lambda' : 1.0,\n",
        "}\n",
        "\n",
        "print(f\"Training parameters: {train_params}\")\n",
        "\n",
        "all_results = {}\n",
        "norm = {}\n",
        "\n",
        "#1. Extract features for the train and test dataset\n",
        "#2. Normalize feature vectors using the normalize function.\n",
        "#3. Run the training function\n",
        "tr_x = extract_hog_features(train_data)\n",
        "va_x = extract_hog_features(val_data)\n",
        "\n",
        "print(f\"Training data before: mean {tr_x.mean()}, std {tr_x.std()}, min {tr_x.min()}, max {tr_x.max()}\")\n",
        "\n",
        "tr_x, tr_mean, tr_range = normalize(tr_x) \n",
        "va_x, _, _ = normalize(va_x, tr_mean, tr_range)\n",
        "\n",
        "norm['hog'] = [tr_mean, tr_range]\n",
        "\n",
        "print(f\"Training data after: mean {tr_x.mean()}, std {tr_x.std()}, min {tr_x.min()}, max {tr_x.max()}\")\n",
        "print(f\"Test data after: mean {va_x.mean()}, std {va_x.std()}, min {va_x.min()}, max {va_x.max()}\")\n",
        "\n",
        "assert tr_x.min() >= -1 and tr_x.max() <= 1.0, f\"Train data should be normalized to [-1, 1]: {tr_x.min()}, {tr_x.max()}\"\n",
        "\n",
        "#hog: (N, 324)\n",
        "train_res = train(tr_x, train_labels, va_x, val_labels, class_labels, train_params)\n",
        "all_results['hog'] = train_res\n",
        "\n",
        "print(\"All done training!\")"
      ]
    },
    {
      "cell_type": "code",
      "execution_count": 329,
      "metadata": {
        "id": "KPSpPOEbb88K",
        "outputId": "4e5fc9fb-8352-4613-aa80-57fe2542be67",
        "colab": {
          "base_uri": "https://localhost:8080/",
          "height": 259
        }
      },
      "outputs": [
        {
          "output_type": "stream",
          "name": "stdout",
          "text": [
            "Test data after: mean -0.00012972148015294005, std 0.23936652450862886, min -0.44610811892399527, max 1.2673874888157646\n"
          ]
        },
        {
          "output_type": "error",
          "ename": "KeyError",
          "evalue": "ignored",
          "traceback": [
            "\u001b[0;31m---------------------------------------------------------------------------\u001b[0m",
            "\u001b[0;31mKeyError\u001b[0m                                  Traceback (most recent call last)",
            "\u001b[0;32m<ipython-input-329-9d55774b1db3>\u001b[0m in \u001b[0;36m<module>\u001b[0;34m\u001b[0m\n\u001b[1;32m     55\u001b[0m \u001b[0mprint\u001b[0m\u001b[0;34m(\u001b[0m\u001b[0;34mf\"Test data after: mean {te_x.mean()}, std {te_x.std()}, min {te_x.min()}, max {te_x.max()}\"\u001b[0m\u001b[0;34m)\u001b[0m\u001b[0;34m\u001b[0m\u001b[0;34m\u001b[0m\u001b[0m\n\u001b[1;32m     56\u001b[0m \u001b[0;31m#plot(all_results[feat_type], feat_type)\u001b[0m\u001b[0;34m\u001b[0m\u001b[0;34m\u001b[0m\u001b[0m\n\u001b[0;32m---> 57\u001b[0;31m \u001b[0mresults\u001b[0m \u001b[0;34m=\u001b[0m \u001b[0mevaluate\u001b[0m\u001b[0;34m(\u001b[0m\u001b[0mte_x\u001b[0m\u001b[0;34m,\u001b[0m \u001b[0mtest_labels\u001b[0m\u001b[0;34m,\u001b[0m \u001b[0mall_results\u001b[0m\u001b[0;34m[\u001b[0m\u001b[0;34m'hog'\u001b[0m\u001b[0;34m]\u001b[0m\u001b[0;34m)\u001b[0m\u001b[0;34m\u001b[0m\u001b[0;34m\u001b[0m\u001b[0m\n\u001b[0m\u001b[1;32m     58\u001b[0m \u001b[0;32mfor\u001b[0m \u001b[0mkey\u001b[0m \u001b[0;32min\u001b[0m \u001b[0mresults\u001b[0m\u001b[0;34m.\u001b[0m\u001b[0mkeys\u001b[0m\u001b[0;34m(\u001b[0m\u001b[0;34m)\u001b[0m\u001b[0;34m:\u001b[0m\u001b[0;34m\u001b[0m\u001b[0;34m\u001b[0m\u001b[0m\n\u001b[1;32m     59\u001b[0m   \u001b[0mprint\u001b[0m\u001b[0;34m(\u001b[0m\u001b[0mkey\u001b[0m\u001b[0;34m,\u001b[0m \u001b[0mresults\u001b[0m\u001b[0;34m[\u001b[0m\u001b[0mkey\u001b[0m\u001b[0;34m]\u001b[0m\u001b[0;34m)\u001b[0m\u001b[0;34m\u001b[0m\u001b[0;34m\u001b[0m\u001b[0m\n",
            "\u001b[0;31mKeyError\u001b[0m: 'hog'"
          ]
        }
      ],
      "source": [
        "from sklearn.metrics import confusion_matrix\n",
        "def evaluate(X, y, train_res):\n",
        "    \"\"\"For the model, calculate the:\n",
        "        - Recall (per class)\n",
        "        - Precision (per class)\n",
        "        - Average Recall, \n",
        "        - Average Precision,\n",
        "        - Average F1 score\n",
        "        - Average Accuracy \n",
        "\n",
        "    Parameters\n",
        "    ----------\n",
        "    X : ndarray NxD array where N is the number of instances and D and the number of features \n",
        "    y : narray Nx1 array with a label for each instance \n",
        "    train_res : training dict containing best W,b\n",
        "\n",
        "    Returns\n",
        "        results : dictionary \n",
        "    -------\n",
        "    \n",
        "    \"\"\"\n",
        "    EPS=1e-6\n",
        "    results = {\"accuracy\" : 0,\n",
        "               \"recall\" : 0,\n",
        "               \"precision\" : 0,\n",
        "               \"avg_recall\" : 0,\n",
        "               \"avg_precision\" : 0,\n",
        "               \"fscore\" : 0}\n",
        "\n",
        "    print(\"Use our trained model to predict h: X -> [0,3]\");\n",
        "    #Predict the class by getting the class label (ie index) with the max probability \n",
        "    pred = pred = predict(X, train_res[\"W\"], train_res[\"b\"])\n",
        "\n",
        "    print(\"Creating confusion matrix and calculating evaluation metrics\");\n",
        "    #Calculate the confusion matrix, and normalize it between 0-1\n",
        "    cm = confusion_matrix(y,pred).astype(np.float32)\n",
        "\n",
        "    #From the confusion matrix, calculate precision/recall/f1-measure\n",
        "    results['recall'] = np.diag(cm) / (np.sum(cm, axis=1) + EPS)\n",
        "    results['avg_recall'] = np.mean(results['recall'])\n",
        "\n",
        "    results['precision'] = np.diag(cm) / (np.sum(cm, axis=0) + EPS)\n",
        "    results['avg_precision'] = np.mean(results['precision'])\n",
        "\n",
        "    results[\"fscore\"] = 2 * ( results['avg_precision'] * results['avg_recall'] ) / (results['avg_precision'] + results['avg_recall'] + EPS)\n",
        "\n",
        "    results[\"accuracy\"] = np.mean(pred == y)\n",
        "\n",
        "    return results\n",
        "\n",
        "\n",
        "\n",
        "te_x = extract_hog_features(test_data)\n",
        "te_x, _, _ = normalize(te_x, *norm['hog']) \n",
        "print(f\"Test data after: mean {te_x.mean()}, std {te_x.std()}, min {te_x.min()}, max {te_x.max()}\")\n",
        "#plot(all_results[feat_type], feat_type)\n",
        "results = evaluate(te_x, test_labels, all_results['hog'])\n",
        "for key in results.keys():\n",
        "  print(key, results[key])"
      ]
    },
    {
      "cell_type": "markdown",
      "metadata": {
        "id": "ENSjUV3ATDm9"
      },
      "source": [
        "**End of the assignment!**"
      ]
    }
  ],
  "metadata": {
    "colab": {
      "provenance": [],
      "toc_visible": true
    },
    "kernelspec": {
      "display_name": "Python 3",
      "name": "python3"
    }
  },
  "nbformat": 4,
  "nbformat_minor": 0
}